{
 "cells": [
  {
   "cell_type": "code",
   "execution_count": 10,
   "metadata": {},
   "outputs": [],
   "source": [
    "from langchain_ollama import ChatOllama\n",
    "\n",
    "chat_model = ChatOllama(model=\"llama3.1:latest\")"
   ]
  },
  {
   "cell_type": "code",
   "execution_count": 30,
   "metadata": {},
   "outputs": [],
   "source": [
    "msg = \"\"\"\n",
    "who won most medals in the 2024 olympics ?\n",
    "\"\"\""
   ]
  },
  {
   "cell_type": "code",
   "execution_count": 31,
   "metadata": {},
   "outputs": [
    {
     "name": "stdout",
     "output_type": "stream",
     "text": [
      "==================================\u001b[1m Ai Message \u001b[0m==================================\n",
      "\n",
      "I'm a large language model, I don't have real-time information and my training data only goes up to 2022. The 2024 Olympics have not taken place yet.\n",
      "\n",
      "However, I can suggest some possible sources where you might be able to find the latest updates on the 2024 Olympics:\n",
      "\n",
      "1. Official Olympic Website: Visit the official website of the International Olympic Committee (IOC) or the specific Olympic committee for Paris 2024 (the host city).\n",
      "2. News Websites: Follow reputable news websites that cover sports, such as ESPN, BBC Sport, CNN Sports, or Al Jazeera.\n",
      "3. Social Media: Look for updates on social media platforms like Twitter, Instagram, Facebook, and YouTube from official Olympic accounts, athletes, and journalists.\n",
      "\n",
      "Please note that I won't be able to provide information on the 2024 Olympics until they actually take place.\n"
     ]
    }
   ],
   "source": [
    "answer = chat_model.invoke(msg)\n",
    "\n",
    "answer.pretty_print()"
   ]
  },
  {
   "cell_type": "code",
   "execution_count": null,
   "metadata": {},
   "outputs": [],
   "source": [
    "from langchain_community.document_loaders import PyPDFLoader\n",
    "\n",
    "loader = PyPDFLoader(\n",
    "    \"./pdfs/monopoly.pdf\",\n",
    ")"
   ]
  }
 ],
 "metadata": {
  "kernelspec": {
   "display_name": "Python 3",
   "language": "python",
   "name": "python3"
  },
  "language_info": {
   "codemirror_mode": {
    "name": "ipython",
    "version": 3
   },
   "file_extension": ".py",
   "mimetype": "text/x-python",
   "name": "python",
   "nbconvert_exporter": "python",
   "pygments_lexer": "ipython3",
   "version": "3.10.12"
  }
 },
 "nbformat": 4,
 "nbformat_minor": 2
}
